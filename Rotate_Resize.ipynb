{
  "cells": [
    {
      "cell_type": "code",
      "execution_count": 3,
      "metadata": {
        "colab": {
          "base_uri": "https://localhost:8080/",
          "height": 428
        },
        "id": "nmMUsn2gpzoz",
        "outputId": "94410895-6bf9-40c2-e140-23bd041e20f4"
      },
      "outputs": [
        {
          "name": "stderr",
          "output_type": "stream",
          "text": [
            "100%|██████████| 1/1 [00:00<00:00, 354.34it/s]\n"
          ]
        }
      ],
      "source": [
        "from os import listdir\n",
        "from os.path import isfile, join\n",
        "from tqdm import tqdm\n",
        "import cv2\n",
        "import tensorflow as tf\n",
        "from keras.preprocessing.image import ImageDataGenerator\n",
        "from tensorflow.keras.utils import array_to_img, img_to_array, load_img\n",
        "\n",
        "import os\n",
        "\n",
        "# Directory output image\n",
        "directory = 'C:/Users/LENOVO/Desktop/Mini_Project/Resize_IMG'\n",
        "\n",
        "# check folder in path directory\n",
        "if not os.path.exists(directory):\n",
        "    os.makedirs(directory)\n",
        "\n",
        "# Initialising the ImageDataGenerator class.\n",
        "# We will pass in the augmentation parameters in the constructor.\n",
        "datagen = ImageDataGenerator(\n",
        "        rotation_range = 5,\n",
        "        shear_range = 0.2,\n",
        "        zoom_range = 0.2,\n",
        "        horizontal_flip = True,\n",
        "        vertical_flip = True,\n",
        "        brightness_range = (0.4, 1.2))\n",
        "# Directory input image\n",
        "Path = 'C:/Users/LENOVO/Desktop/Dataset/Test'\n",
        "\n",
        "\n",
        "for item in tqdm(listdir(Path)):\n",
        "  file = join(Path, item)\n",
        "  if file[-1] =='g':\n",
        "    img = cv2.imread(file , cv2.COLOR_BGR2RGB)\n",
        "    img = cv2.cvtColor(img, cv2.COLOR_BGR2RGB)\n",
        "    img = cv2.resize(img,(10,10))\n",
        "\n",
        "    # Loading a sample image\n",
        "    # img = load_img(file)\n",
        "\n",
        "    # Converting the input sample image to an array\n",
        "    x = img_to_array(img)\n",
        "    # Reshaping the input image\n",
        "    x = x.reshape((1, ) + x.shape)\n",
        "\n",
        "    i = 0\n",
        "    for batch in datagen.flow(x, batch_size = 1,save_to_dir = directory, \n",
        "                              save_prefix ='Test', save_format ='jpeg'):\n",
        "      i += 1\n",
        "      if i > 100:\n",
        "        break\n"
      ]
    }
  ],
  "metadata": {
    "accelerator": "GPU",
    "colab": {
      "gpuType": "T4",
      "provenance": []
    },
    "kernelspec": {
      "display_name": "Python 3",
      "name": "python3"
    },
    "language_info": {
      "codemirror_mode": {
        "name": "ipython",
        "version": 3
      },
      "file_extension": ".py",
      "mimetype": "text/x-python",
      "name": "python",
      "nbconvert_exporter": "python",
      "pygments_lexer": "ipython3",
      "version": "3.11.4"
    }
  },
  "nbformat": 4,
  "nbformat_minor": 0
}
